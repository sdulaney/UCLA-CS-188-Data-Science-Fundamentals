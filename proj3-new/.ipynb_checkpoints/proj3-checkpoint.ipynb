{
 "cells": [
  {
   "cell_type": "code",
   "execution_count": 1,
   "metadata": {
    "editable": false
   },
   "outputs": [],
   "source": [
    "# Initialize autograder\n",
    "# If you see an error message, you'll need to do\n",
    "# pip3 install otter-grader\n",
    "import otter\n",
    "grader = otter.Notebook()"
   ]
  },
  {
   "cell_type": "markdown",
   "metadata": {},
   "source": [
    "# Project 3: Predicting Taxi Ride Duration\n",
    "## Due Date: Wednesday 3/4/20, 11:59PM\n",
    "\n",
    "**Collaboration Policy**\n",
    "\n",
    "Data science is a collaborative activity. While you may talk with others about\n",
    "the project, we ask that you **write your solutions individually**. If you do\n",
    "discuss the assignments with others please **include their names** at the top\n",
    "of your notebook."
   ]
  },
  {
   "cell_type": "markdown",
   "metadata": {},
   "source": [
    "**Collaborators**: *list collaborators here*"
   ]
  },
  {
   "cell_type": "markdown",
   "metadata": {},
   "source": [
    "## Score Breakdown\n",
    "Question | Points\n",
    "--- | ---\n",
    "1b | 2\n",
    "1c | 3\n",
    "1d | 2\n",
    "2a | 1\n",
    "2b | 2\n",
    "3a | 2\n",
    "3b | 1\n",
    "3c | 2\n",
    "3d | 2\n",
    "4a | 2\n",
    "4b | 2\n",
    "4c | 2\n",
    "4d | 2\n",
    "4e | 2\n",
    "4f | 2\n",
    "4g | 4\n",
    "5b | 7\n",
    "5c | 3\n",
    "Total | 43"
   ]
  },
  {
   "cell_type": "markdown",
   "metadata": {},
   "source": [
    "## This Assignment\n",
    "In this project, you will use what you've learned in class to create a regression model that predicts the travel time of a taxi ride in New York. Some questions in this project are more substantial than those of past projects.\n",
    "\n",
    "After this project, you should feel comfortable with the following:\n",
    "\n",
    "- The data science lifecycle: data selection and cleaning, EDA, feature engineering, and model selection.\n",
    "- Using `sklearn` to process data and fit linear regression models.\n",
    "- Embedding linear regression as a component in a more complex model.\n",
    "\n",
    "First, let's import:"
   ]
  },
  {
   "cell_type": "code",
   "execution_count": 2,
   "metadata": {
    "ExecuteTime": {
     "end_time": "2019-04-19T00:52:10.469067Z",
     "start_time": "2019-04-19T00:52:09.326799Z"
    }
   },
   "outputs": [],
   "source": [
    "import numpy as np\n",
    "import pandas as pd\n",
    "\n",
    "import matplotlib.pyplot as plt\n",
    "%matplotlib inline\n",
    "\n",
    "import seaborn as sns"
   ]
  },
  {
   "cell_type": "markdown",
   "metadata": {},
   "source": [
    "## The Data\n",
    "Attributes of all [yellow taxi](https://en.wikipedia.org/wiki/Taxicabs_of_New_York_City) trips in January 2016 are published by the [NYC Taxi and Limosine Commission](https://www1.nyc.gov/site/tlc/about/tlc-trip-record-data.page).\n",
    "\n",
    "The full data set takes a long time to download directly, so we've placed a simple random sample of the data into `taxi.db`, a SQLite database. You can view the code used to generate this sample in the `taxi_sample.ipynb` file included with this project (not required).\n",
    "\n",
    "Columns of the `taxi` table in `taxi.db` include:\n",
    "- `pickup_datetime`: date and time when the meter was engaged\n",
    "- `dropoff_datetime`: date and time when the meter was disengaged\n",
    "- `pickup_lon`: the longitude where the meter was engaged\n",
    "- `pickup_lat`: the latitude where the meter was engaged\n",
    "- `dropoff_lon`: the longitude where the meter was disengaged\n",
    "- `dropoff_lat`: the latitude where the meter was disengaged\n",
    "- `passengers`: the number of passengers in the vehicle (driver entered value)\n",
    "- `distance`: trip distance\n",
    "- `duration`: duration of the trip in seconds\n",
    "\n",
    "Your goal will be to predict `duration` from the pick-up time, pick-up and drop-off locations, and distance."
   ]
  },
  {
   "cell_type": "markdown",
   "metadata": {},
   "source": [
    "## Part 1: Data Selection and Cleaning\n",
    "\n",
    "In this part, you will limit the data to trips that began and ended on Manhattan Island ([map](https://www.google.com/maps/place/Manhattan,+New+York,+NY/@40.7590402,-74.0394431,12z/data=!3m1!4b1!4m5!3m4!1s0x89c2588f046ee661:0xa0b3281fcecc08c!8m2!3d40.7830603!4d-73.9712488)). "
   ]
  },
  {
   "cell_type": "markdown",
   "metadata": {
    "deletable": false,
    "editable": false
   },
   "source": [
    "The below cell uses a SQL query to load the `taxi` table from `taxi.db` into a Pandas DataFrame called `all_taxi`. \n",
    "\n",
    "It only includes trips that have **both** pick-up and drop-off locations within the boundaries of New York City:\n",
    "\n",
    "- Longitude is between -74.03 and -73.75 (inclusive of both boundaries)\n",
    "- Latitude is between 40.6 and 40.88 (inclusive of both boundaries)\n",
    "\n",
    "You don't have to change anything, just run this cell.\n",
    "\n",
    "<!--\n",
    "BEGIN QUESTION\n",
    "name: q1a\n",
    "points: 2\n",
    "-->"
   ]
  },
  {
   "cell_type": "code",
   "execution_count": 3,
   "metadata": {
    "ExecuteTime": {
     "end_time": "2019-04-19T00:52:10.909745Z",
     "start_time": "2019-04-19T00:52:10.471335Z"
    }
   },
   "outputs": [
    {
     "data": {
      "text/html": [
       "<div>\n",
       "<style scoped>\n",
       "    .dataframe tbody tr th:only-of-type {\n",
       "        vertical-align: middle;\n",
       "    }\n",
       "\n",
       "    .dataframe tbody tr th {\n",
       "        vertical-align: top;\n",
       "    }\n",
       "\n",
       "    .dataframe thead th {\n",
       "        text-align: right;\n",
       "    }\n",
       "</style>\n",
       "<table border=\"1\" class=\"dataframe\">\n",
       "  <thead>\n",
       "    <tr style=\"text-align: right;\">\n",
       "      <th></th>\n",
       "      <th>pickup_datetime</th>\n",
       "      <th>dropoff_datetime</th>\n",
       "      <th>pickup_lon</th>\n",
       "      <th>pickup_lat</th>\n",
       "      <th>dropoff_lon</th>\n",
       "      <th>dropoff_lat</th>\n",
       "      <th>passengers</th>\n",
       "      <th>distance</th>\n",
       "      <th>duration</th>\n",
       "    </tr>\n",
       "  </thead>\n",
       "  <tbody>\n",
       "    <tr>\n",
       "      <th>0</th>\n",
       "      <td>2016-01-30 22:47:32</td>\n",
       "      <td>2016-01-30 23:03:53</td>\n",
       "      <td>-73.988251</td>\n",
       "      <td>40.743542</td>\n",
       "      <td>-74.015251</td>\n",
       "      <td>40.709808</td>\n",
       "      <td>1</td>\n",
       "      <td>3.99</td>\n",
       "      <td>981</td>\n",
       "    </tr>\n",
       "    <tr>\n",
       "      <th>1</th>\n",
       "      <td>2016-01-04 04:30:48</td>\n",
       "      <td>2016-01-04 04:36:08</td>\n",
       "      <td>-73.995888</td>\n",
       "      <td>40.760010</td>\n",
       "      <td>-73.975388</td>\n",
       "      <td>40.782200</td>\n",
       "      <td>1</td>\n",
       "      <td>2.03</td>\n",
       "      <td>320</td>\n",
       "    </tr>\n",
       "    <tr>\n",
       "      <th>2</th>\n",
       "      <td>2016-01-07 21:52:24</td>\n",
       "      <td>2016-01-07 21:57:23</td>\n",
       "      <td>-73.990440</td>\n",
       "      <td>40.730469</td>\n",
       "      <td>-73.985542</td>\n",
       "      <td>40.738510</td>\n",
       "      <td>1</td>\n",
       "      <td>0.70</td>\n",
       "      <td>299</td>\n",
       "    </tr>\n",
       "    <tr>\n",
       "      <th>3</th>\n",
       "      <td>2016-01-01 04:13:41</td>\n",
       "      <td>2016-01-01 04:19:24</td>\n",
       "      <td>-73.944725</td>\n",
       "      <td>40.714539</td>\n",
       "      <td>-73.955421</td>\n",
       "      <td>40.719173</td>\n",
       "      <td>1</td>\n",
       "      <td>0.80</td>\n",
       "      <td>343</td>\n",
       "    </tr>\n",
       "    <tr>\n",
       "      <th>4</th>\n",
       "      <td>2016-01-08 18:46:10</td>\n",
       "      <td>2016-01-08 18:54:00</td>\n",
       "      <td>-74.004494</td>\n",
       "      <td>40.706989</td>\n",
       "      <td>-74.010155</td>\n",
       "      <td>40.716751</td>\n",
       "      <td>5</td>\n",
       "      <td>0.97</td>\n",
       "      <td>470</td>\n",
       "    </tr>\n",
       "  </tbody>\n",
       "</table>\n",
       "</div>"
      ],
      "text/plain": [
       "       pickup_datetime     dropoff_datetime  pickup_lon  pickup_lat  \\\n",
       "0  2016-01-30 22:47:32  2016-01-30 23:03:53  -73.988251   40.743542   \n",
       "1  2016-01-04 04:30:48  2016-01-04 04:36:08  -73.995888   40.760010   \n",
       "2  2016-01-07 21:52:24  2016-01-07 21:57:23  -73.990440   40.730469   \n",
       "3  2016-01-01 04:13:41  2016-01-01 04:19:24  -73.944725   40.714539   \n",
       "4  2016-01-08 18:46:10  2016-01-08 18:54:00  -74.004494   40.706989   \n",
       "\n",
       "   dropoff_lon  dropoff_lat  passengers  distance  duration  \n",
       "0   -74.015251    40.709808           1      3.99       981  \n",
       "1   -73.975388    40.782200           1      2.03       320  \n",
       "2   -73.985542    40.738510           1      0.70       299  \n",
       "3   -73.955421    40.719173           1      0.80       343  \n",
       "4   -74.010155    40.716751           5      0.97       470  "
      ]
     },
     "execution_count": 3,
     "metadata": {},
     "output_type": "execute_result"
    }
   ],
   "source": [
    "import sqlite3\n",
    "\n",
    "conn = sqlite3.connect('taxi.db')\n",
    "lon_bounds = [-74.03, -73.75]\n",
    "lat_bounds = [40.6, 40.88]\n",
    "\n",
    "c = conn.cursor()\n",
    "\n",
    "my_string = 'SELECT * FROM taxi WHERE'\n",
    "\n",
    "for word in ['pickup_lat', 'AND dropoff_lat']:\n",
    "    my_string += ' {} BETWEEN {} AND {}'.format(word, lat_bounds[0], lat_bounds[1])\n",
    "    \n",
    "for word in ['AND pickup_lon', 'AND dropoff_lon']:\n",
    "    my_string += ' {} BETWEEN {} AND {}'.format(word, lon_bounds[0], lon_bounds[1])\n",
    "\n",
    "c.execute(my_string)\n",
    "\n",
    "results = c.fetchall()\n",
    "\n",
    "row_res = conn.execute('select * from taxi')\n",
    "names = list(map(lambda x: x[0], row_res.description))\n",
    "\n",
    "\n",
    "all_taxi = pd.DataFrame(results)\n",
    "all_taxi.columns = names\n",
    "all_taxi.head()"
   ]
  },
  {
   "cell_type": "markdown",
   "metadata": {},
   "source": [
    "A scatter plot of pickup locations shows that most of them are on the island of Manhattan. The empty white rectangle is Central Park; cars are not allowed there."
   ]
  },
  {
   "cell_type": "code",
   "execution_count": 4,
   "metadata": {
    "ExecuteTime": {
     "end_time": "2019-04-19T00:52:11.547807Z",
     "start_time": "2019-04-19T00:52:10.953752Z"
    }
   },
   "outputs": [
    {
     "data": {
      "image/png": "[encoded data removed]",
      "text/plain": [
       "<Figure size 576x576 with 1 Axes>"
      ]
     },
     "metadata": {
      "needs_background": "light"
     },
     "output_type": "display_data"
    }
   ],
   "source": [
    "def pickup_scatter(t):\n",
    "    plt.scatter(t['pickup_lon'], t['pickup_lat'], s=2, alpha=0.2)\n",
    "    plt.xlabel('Longitude')\n",
    "    plt.ylabel('Latitude')\n",
    "    plt.title('Pickup locations')\n",
    "    \n",
    "plt.figure(figsize=(8, 8))\n",
    "pickup_scatter(all_taxi)"
   ]
  },
  {
   "cell_type": "markdown",
   "metadata": {},
   "source": [
    "The two small blobs outside of Manhattan with very high concentrations of taxi pick-ups are airports."
   ]
  },
  {
   "cell_type": "markdown",
   "metadata": {
    "deletable": false,
    "editable": false
   },
   "source": [
    "### Question 1b\n",
    "\n",
    "Create a DataFrame called `clean_taxi` that only includes trips with a positive passenger count, a positive distance, a duration of at least 1 minute and at most 1 hour, and an average speed of at most 100 miles per hour. Inequalities should not be strict (e.g., `<=` instead of `<`) unless comparing to 0.\n",
    "\n",
    "*The provided tests check that you have constructed `clean_taxi` correctly.*\n",
    "\n",
    "<!--\n",
    "BEGIN QUESTION\n",
    "name: q1b\n",
    "points: 2\n",
    "-->"
   ]
  },
  {
   "cell_type": "code",
   "execution_count": 21,
   "metadata": {},
   "outputs": [],
   "source": [
    "clean_taxi = all_taxi.copy()\n",
    "clean_taxi = clean_taxi[(clean_taxi[\"passengers\"] > 0) & (clean_taxi[\"distance\"] > 0) & (60 <= clean_taxi[\"duration\"]) & (clean_taxi[\"duration\"] <= 3600)]\n",
    "clean_taxi[\"avg_speed\"] = clean_taxi[\"distance\"]/(clean_taxi[\"duration\"]/3600)\n",
    "clean_taxi = clean_taxi[clean_taxi[\"avg_speed\"] <= 100]\n",
    "clean_taxi = clean_taxi.drop(\"avg_speed\", axis=1)"
   ]
  },
  {
   "cell_type": "code",
   "execution_count": 22,
   "metadata": {
    "deletable": false,
    "editable": false
   },
   "outputs": [
    {
     "data": {
      "text/html": [
       "\n",
       "    \n",
       "    \n",
       "        <p>All tests passed!</p>\n",
       "    \n",
       "    "
      ],
      "text/plain": [
       "\n",
       "    All tests passed!\n",
       "    "
      ]
     },
     "execution_count": 22,
     "metadata": {},
     "output_type": "execute_result"
    }
   ],
   "source": [
    "grader.check(\"q1b\")"
   ]
  },
  {
   "cell_type": "markdown",
   "metadata": {
    "deletable": false,
    "editable": false
   },
   "source": [
    "### Question 1c (challenging)\n",
    "\n",
    "Create a DataFrame called `manhattan_taxi` that only includes trips from `clean_taxi` that start and end within a polygon that defines the boundaries of [Manhattan Island](https://www.google.com/maps/place/Manhattan,+New+York,+NY/@40.7590402,-74.0394431,12z/data=!3m1!4b1!4m5!3m4!1s0x89c2588f046ee661:0xa0b3281fcecc08c!8m2!3d40.7830603!4d-73.9712488).\n",
    "\n",
    "The vertices of this polygon are defined in `manhattan.csv` as (latitude, longitude) pairs, which are [published here](https://gist.github.com/baygross/5430626).\n",
    "\n",
    "An efficient way to test if a point is contained within a polygon is [described on this page](http://alienryderflex.com/polygon/). There are even implementations on that page (though not in Python). Even with an efficient approach, the process of checking each point can take several minutes. It's best to test your work on a small sample of `clean_taxi` before processing the whole thing. (To check if your code is working, draw a scatter diagram of the (lon, lat) pairs of the result; the scatter diagram should have the shape of Manhattan.)\n",
    "\n",
    "*The provided tests check that you have constructed `manhattan_taxi` correctly. It's not required that you implement the `in_manhattan` helper function, but that's recommended. If you cannot solve this problem, you can still continue with the project; see the instructions below the answer cell.*\n",
    "\n",
    "<!--\n",
    "BEGIN QUESTION\n",
    "name: q1c\n",
    "points: 3\n",
    "-->"
   ]
  },
  {
   "cell_type": "code",
   "execution_count": null,
   "metadata": {
    "ExecuteTime": {
     "end_time": "2019-04-19T00:52:11.844755Z",
     "start_time": "2019-04-19T00:52:11.626040Z"
    }
   },
   "outputs": [],
   "source": [
    "polygon = pd.read_csv('manhattan.csv')\n",
    "\n",
    "# Recommended: First develop and test a function that takes a position\n",
    "#              and returns whether it's in Manhattan.\n",
    "def in_manhattan(x, y):\n",
    "    \"\"\"Whether a longitude-latitude (x, y) pair is in the Manhattan polygon.\"\"\"\n",
    "    ...\n",
    "    \n",
    "# Recommended: Then, apply this function to every trip to filter clean_taxi.\n",
    "...\n",
    "manhattan_taxi = ..."
   ]
  },
  {
   "cell_type": "code",
   "execution_count": null,
   "metadata": {
    "deletable": false,
    "editable": false
   },
   "outputs": [],
   "source": [
    "grader.check(\"q1c\")"
   ]
  },
  {
   "cell_type": "markdown",
   "metadata": {},
   "source": [
    "If you are unable to solve the problem above, have trouble with the tests, or want to work on the rest of the project before solving it, run the following cell to load the cleaned Manhattan data directly. (Note that you may not solve the previous problem just by loading this data file; you have to actually write the code.)"
   ]
  },
  {
   "cell_type": "code",
   "execution_count": null,
   "metadata": {
    "ExecuteTime": {
     "end_time": "2019-04-19T00:52:12.133311Z",
     "start_time": "2019-04-19T00:52:11.924094Z"
    }
   },
   "outputs": [],
   "source": [
    "manhattan_taxi = pd.read_csv('manhattan_taxi.csv')"
   ]
  },
  {
   "cell_type": "markdown",
   "metadata": {},
   "source": [
    "A scatter diagram of only Manhattan taxi rides has the familiar shape of Manhattan Island. "
   ]
  },
  {
   "cell_type": "code",
   "execution_count": null,
   "metadata": {
    "ExecuteTime": {
     "end_time": "2019-04-19T00:52:12.751632Z",
     "start_time": "2019-04-19T00:52:12.135205Z"
    }
   },
   "outputs": [],
   "source": [
    "plt.figure(figsize=(8, 16))\n",
    "pickup_scatter(manhattan_taxi)"
   ]
  },
  {
   "cell_type": "markdown",
   "metadata": {
    "deletable": false,
    "editable": false
   },
   "source": [
    "### Question 1d\n",
    "\n",
    "Print a summary of the data selection and cleaning you performed. **Your Python code should not include any number literals, but instead should refer to the shape of `all_taxi`, `clean_taxi`, and `manhattan_taxi`**.\n",
    "\n",
    "E.g., you should print something like: \"Of the original 1000 trips, 21 anomalous trips (2.1%) were removed through data cleaning, and then the 600 trips within Manhattan were selected for further analysis.\"\n",
    "\n",
    "(Note that the numbers in the example above are not accurate.)\n",
    "\n",
    "One way to do this is with Python's f-strings. For instance,\n",
    "``` python\n",
    "name = \"Joshua\"\n",
    "print(f\"Hi {name}, how are you?\")\n",
    "```\n",
    "prints out `Hi Joshua, how are you?.`\n",
    "\n",
    "**Please ensure that your Python code does not contain any very long lines, or we can't grade it.**\n",
    "\n",
    "*Your response will be scored based on whether you generate an accurate description and do not include any number literals in your Python expression, but instead refer to the dataframes you have created.*\n",
    "\n",
    "<!--\n",
    "BEGIN QUESTION\n",
    "name: q1d\n",
    "points: 2\n",
    "manual: True\n",
    "-->\n",
    "<!-- EXPORT TO PDF -->"
   ]
  },
  {
   "cell_type": "code",
   "execution_count": null,
   "metadata": {
    "ExecuteTime": {
     "end_time": "2019-04-19T00:52:12.760958Z",
     "start_time": "2019-04-19T00:52:12.754422Z"
    }
   },
   "outputs": [],
   "source": [
    "..."
   ]
  },
  {
   "cell_type": "markdown",
   "metadata": {},
   "source": [
    "## Part 2: Exploratory Data Analysis\n",
    "\n",
    "In this part, you'll choose which days to include as training data in your regression model. \n",
    "\n",
    "Your goal is to develop a general model that could potentially be used for future taxi rides. There is no guarantee that future distributions will resemble observed distributions, but some effort to limit training data to typical examples can help ensure that the training data are representative of future observations.\n",
    "\n",
    "January 2016 had some atypical days. New Year's Day (January 1) fell on a Friday. MLK Day was on Monday, January 18. A [historic blizzard](https://en.wikipedia.org/wiki/January_2016_United_States_blizzard) passed through New York that month. Using this dataset to train a general regression model for taxi trip times must account for these unusual phenomena, and one way to account for them is to remove atypical days from the training data."
   ]
  },
  {
   "cell_type": "markdown",
   "metadata": {
    "deletable": false,
    "editable": false
   },
   "source": [
    "### Question 2a\n",
    "\n",
    "Add a column labeled `date` to `manhattan_taxi` that contains the date (but not the time) of pickup, formatted as a `datetime.date` value ([docs](https://docs.python.org/3/library/datetime.html#date-objects)). \n",
    "\n",
    "*The provided tests check that you have extended `manhattan_taxi` correctly.*\n",
    "\n",
    "<!--\n",
    "BEGIN QUESTION\n",
    "name: q2a\n",
    "points: 1\n",
    "-->"
   ]
  },
  {
   "cell_type": "code",
   "execution_count": null,
   "metadata": {
    "ExecuteTime": {
     "end_time": "2019-04-19T00:52:12.830375Z",
     "start_time": "2019-04-19T00:52:12.763854Z"
    }
   },
   "outputs": [],
   "source": [
    "...\n",
    "manhattan_taxi.head()"
   ]
  },
  {
   "cell_type": "code",
   "execution_count": null,
   "metadata": {
    "deletable": false,
    "editable": false
   },
   "outputs": [],
   "source": [
    "grader.check(\"q2a\")"
   ]
  },
  {
   "cell_type": "markdown",
   "metadata": {
    "deletable": false,
    "editable": false
   },
   "source": [
    "### Question 2b\n",
    "\n",
    "Create a data visualization that allows you to identify which dates were affected by the historic blizzard of January 2016. Make sure that the visualization type is appropriate for the visualized data.\n",
    "\n",
    "As a hint, consider how taxi usage might change on a day with a blizzard. How could you visualize/plot this?\n",
    "\n",
    "<!--\n",
    "BEGIN QUESTION\n",
    "name: q2b\n",
    "points: 2\n",
    "manual: True\n",
    "format: image\n",
    "-->\n",
    "<!-- EXPORT TO PDF -->"
   ]
  },
  {
   "cell_type": "code",
   "execution_count": null,
   "metadata": {
    "ExecuteTime": {
     "end_time": "2019-04-19T00:52:13.183376Z",
     "start_time": "2019-04-19T00:52:12.877540Z"
    }
   },
   "outputs": [],
   "source": [
    "..."
   ]
  },
  {
   "cell_type": "markdown",
   "metadata": {},
   "source": [
    "Finally, we have generated a list of dates that should have a fairly typical distribution of taxi rides, which excludes holidays and blizzards. The cell below assigns `final_taxi` to the subset of `manhattan_taxi` that is on these days. (No changes are needed; just run this cell.)"
   ]
  },
  {
   "cell_type": "code",
   "execution_count": null,
   "metadata": {
    "ExecuteTime": {
     "end_time": "2019-04-19T00:52:13.198633Z",
     "start_time": "2019-04-19T00:52:13.185336Z"
    }
   },
   "outputs": [],
   "source": [
    "import calendar\n",
    "import re\n",
    "\n",
    "from datetime import date\n",
    "\n",
    "atypical = [1, 2, 3, 18, 23, 24, 25, 26]\n",
    "typical_dates = [date(2016, 1, n) for n in range(1, 32) if n not in atypical]\n",
    "typical_dates\n",
    "\n",
    "print('Typical dates:\\n')\n",
    "pat = '  [1-3]|18 | 23| 24|25 |26 '\n",
    "print(re.sub(pat, '   ', calendar.month(2016, 1)))\n",
    "\n",
    "final_taxi = manhattan_taxi[manhattan_taxi['date'].isin(typical_dates)]"
   ]
  },
  {
   "cell_type": "markdown",
   "metadata": {},
   "source": [
    "You are welcome to perform more exploratory data analysis, but your work will not be scored. Here's a blank cell to use if you wish. In practice, further exploration would be warranted at this point, but the project is already pretty long."
   ]
  },
  {
   "cell_type": "code",
   "execution_count": null,
   "metadata": {
    "ExecuteTime": {
     "end_time": "2019-04-19T00:52:13.211604Z",
     "start_time": "2019-04-19T00:52:13.201202Z"
    }
   },
   "outputs": [],
   "source": [
    "# Optional: More EDA here"
   ]
  },
  {
   "cell_type": "markdown",
   "metadata": {},
   "source": [
    "## Part 3: Feature Engineering\n",
    "\n",
    "In this part, you'll create a design matrix (i.e., feature matrix) for your linear regression model. This is analagous to the pipelines you've built already in class: you'll be adding features, removing labels, and scaling among other things.\n",
    "\n",
    "You decide to predict trip duration from the following inputs: start location, end location, trip distance, time of day, and day of the week (*Monday, Tuesday, etc.*).\n",
    "\n",
    "You will ensure that the process of transforming observations into a design matrix is expressed as a Python function called `design_matrix`, so that it's easy to make predictions for different samples in later parts of the project.\n",
    "\n",
    "Because you are going to look at the data in detail in order to define features, it's best to split the data into training and test sets now, then only inspect the training set."
   ]
  },
  {
   "cell_type": "code",
   "execution_count": null,
   "metadata": {
    "ExecuteTime": {
     "end_time": "2019-04-19T00:52:13.384636Z",
     "start_time": "2019-04-19T00:52:13.213804Z"
    }
   },
   "outputs": [],
   "source": [
    "import sklearn.model_selection\n",
    "\n",
    "train, test = sklearn.model_selection.train_test_split(\n",
    "    final_taxi, train_size=0.8, test_size=0.2, random_state=42)\n",
    "print('Train:', train.shape, 'Test:', test.shape)"
   ]
  },
  {
   "cell_type": "markdown",
   "metadata": {
    "deletable": false,
    "editable": false
   },
   "source": [
    "### Question 3a\n",
    "\n",
    "Create a box plot that compares the distributions of taxi trip durations for each day **using `train` only**. Individual dates shoud appear on the horizontal axis, and duration values should appear on the vertical axis. Your plot should look like the one below.\n",
    "\n",
    "You can generate this type of plot using `sns.boxplot`\n",
    "\n",
    "![](images/3a_duration_by_date.png)\n",
    "\n",
    "\n",
    "<!--\n",
    "BEGIN QUESTION\n",
    "name: q3a\n",
    "points: 2\n",
    "manual: True\n",
    "format: image\n",
    "-->\n",
    "<!-- EXPORT TO PDF -->"
   ]
  },
  {
   "cell_type": "code",
   "execution_count": null,
   "metadata": {
    "ExecuteTime": {
     "end_time": "2019-04-19T00:52:13.970113Z",
     "start_time": "2019-04-19T00:52:13.386332Z"
    }
   },
   "outputs": [],
   "source": [
    "..."
   ]
  },
  {
   "cell_type": "markdown",
   "metadata": {
    "deletable": false,
    "editable": false
   },
   "source": [
    "### Question 3b\n",
    "\n",
    "In one or two sentences, describe the assocation between the day of the week and the duration of a taxi trip. Your answer should be supported by your boxplot above.\n",
    "\n",
    "*Note*: The end of Part 2 showed a calendar for these dates and their corresponding days of the week.\n",
    "\n",
    "<!--\n",
    "BEGIN QUESTION\n",
    "name: q3b\n",
    "points: 1\n",
    "manual: True\n",
    "-->\n",
    "<!-- EXPORT TO PDF -->"
   ]
  },
  {
   "cell_type": "markdown",
   "metadata": {},
   "source": [
    "*Write your answer here, replacing this text.*"
   ]
  },
  {
   "cell_type": "markdown",
   "metadata": {},
   "source": [
    "Below, the provided `augment` function adds various columns to a taxi ride dataframe. \n",
    "\n",
    "- `hour`: The integer hour of the pickup time. E.g., a 3:45pm taxi ride would have `15` as the hour. A 12:20am ride would have `0`.\n",
    "- `day`: The day of the week with Monday=0, Sunday=6.\n",
    "- `weekend`: 1 if and only if the `day` is Saturday or Sunday.\n",
    "- `period`: 1 for early morning (12am-6am), 2 for daytime (6am-6pm), and 3 for night (6pm-12pm).\n",
    "- `speed`: Average speed in miles per hour.\n",
    "\n",
    "No changes are required; just run this cell."
   ]
  },
  {
   "cell_type": "code",
   "execution_count": null,
   "metadata": {
    "ExecuteTime": {
     "end_time": "2019-04-19T00:52:14.045907Z",
     "start_time": "2019-04-19T00:52:13.972137Z"
    }
   },
   "outputs": [],
   "source": [
    "def speed(t):\n",
    "    \"\"\"Return a column of speeds in miles per hour.\"\"\"\n",
    "    return t['distance'] / t['duration'] * 60 * 60\n",
    "\n",
    "def augment(t):\n",
    "    \"\"\"Augment a dataframe t with additional columns.\"\"\"\n",
    "    u = t.copy()\n",
    "    pickup_time = pd.to_datetime(t['pickup_datetime'])\n",
    "    u.loc[:, 'hour'] = pickup_time.dt.hour\n",
    "    u.loc[:, 'day'] = pickup_time.dt.weekday\n",
    "    u.loc[:, 'weekend'] = (pickup_time.dt.weekday >= 5).astype(int)\n",
    "    u.loc[:, 'period'] = np.digitize(pickup_time.dt.hour, [0, 6, 18])\n",
    "    u.loc[:, 'speed'] = speed(t)\n",
    "    return u\n",
    "    \n",
    "train = augment(train)\n",
    "test = augment(test)\n",
    "train.iloc[0,:] # An example row"
   ]
  },
  {
   "cell_type": "markdown",
   "metadata": {
    "deletable": false,
    "editable": false
   },
   "source": [
    "### Question 3c\n",
    "\n",
    "Use `sns.distplot` to create an overlaid histogram comparing the distribution of average speeds for taxi rides that start in the early morning (12am-6am), day (6am-6pm; 12 hours), and night (6pm-12am; 6 hours). Your plot should look like this:\n",
    "\n",
    "![](images/3c_speeds.png)\n",
    "\n",
    "<!--\n",
    "BEGIN QUESTION\n",
    "name: q3c\n",
    "points: 2\n",
    "manual: True\n",
    "format: image\n",
    "-->\n",
    "<!-- EXPORT TO PDF -->"
   ]
  },
  {
   "cell_type": "code",
   "execution_count": null,
   "metadata": {
    "ExecuteTime": {
     "end_time": "2019-04-19T00:52:14.461519Z",
     "start_time": "2019-04-19T00:52:14.047850Z"
    }
   },
   "outputs": [],
   "source": [
    "..."
   ]
  },
  {
   "cell_type": "markdown",
   "metadata": {},
   "source": [
    "It looks like the time of day is associated with the average speed of a taxi ride."
   ]
  },
  {
   "cell_type": "markdown",
   "metadata": {
    "deletable": false
   },
   "source": [
    "### Question 3d\n",
    "\n",
    "Manhattan can roughly be divided into Lower, Midtown, and Upper regions. Instead of studying a map, let's approximate by finding the first principal component of the pick-up location (latitude and longitude). \n",
    "\n",
    "[Principal component analysis](https://en.wikipedia.org/wiki/Principal_component_analysis) (PCA) is a technique that finds new axes as linear combinations of your current axes. These axes are found such that the first returned axis (the first principal component) explains the most variation in values, the 2nd the second most, etc.\n",
    "\n",
    "Add a `region` column to `train` that categorizes each pick-up location as 0, 1, or 2 based on the value of each point's first principal component, such that an equal number of points fall into each region. \n",
    "\n",
    "Read the documentation of [`pd.qcut`](https://pandas.pydata.org/pandas-docs/version/0.23.4/generated/pandas.qcut.html), which categorizes points in a distribution into equal-frequency bins.\n",
    "\n",
    "You don't need to add any lines to this solution. Just fill in the assignment statements to complete the implementation.\n",
    "\n",
    "Before implementing PCA, it is important to scale and shift your values. The line with `np.linalg.svd` will return your transformation matrix, among other things. You can then use this matrix to convert points in (lat, lon) space into (PC1, PC2) space.\n",
    "\n",
    "Hint: If you are failing the tests, try visualizing your processed data to understand what your code might be doing wrong.\n",
    "\n",
    "*The provided tests ensure that you have answered the question correctly.*\n",
    "\n",
    "<!--\n",
    "BEGIN QUESTION\n",
    "name: q3d\n",
    "points: 2\n",
    "-->"
   ]
  },
  {
   "cell_type": "code",
   "execution_count": null,
   "metadata": {
    "ExecuteTime": {
     "end_time": "2019-04-19T00:52:14.501937Z",
     "start_time": "2019-04-19T00:52:14.463641Z"
    }
   },
   "outputs": [],
   "source": [
    "# Find the first principle component\n",
    "D = ...\n",
    "pca_n = ...\n",
    "pca_means = ...\n",
    "X = (D - pca_means) / np.sqrt(pca_n)\n",
    "u, s, vt = np.linalg.svd(X, full_matrices=False)\n",
    "\n",
    "def add_region(t):\n",
    "    \"\"\"Add a region column to t based on vt above.\"\"\"\n",
    "    D = ...\n",
    "    assert D.shape[0] == t.shape[0], 'You set D using the incorrect table'\n",
    "    # Always use the same data transformation used to compute vt\n",
    "    X = (D - pca_means) / np.sqrt(pca_n) \n",
    "    first_pc = ...\n",
    "    t.loc[:,'region'] = pd.qcut(first_pc, 3, labels=[0, 1, 2])\n",
    "    \n",
    "add_region(train)\n",
    "add_region(test)"
   ]
  },
  {
   "cell_type": "code",
   "execution_count": null,
   "metadata": {
    "deletable": false,
    "editable": false
   },
   "outputs": [],
   "source": [
    "grader.check(\"q3d\")"
   ]
  },
  {
   "cell_type": "markdown",
   "metadata": {},
   "source": [
    "Let's see how PCA divided the trips into three groups. These regions do roughly correspond to Lower Manhattan (below 14th street), Midtown Manhattan (between 14th and the park), and Upper Manhattan (bordering Central Park). No prior knowledge of New York geography was required!"
   ]
  },
  {
   "cell_type": "code",
   "execution_count": null,
   "metadata": {
    "ExecuteTime": {
     "end_time": "2019-04-19T00:52:15.135735Z",
     "start_time": "2019-04-19T00:52:14.657562Z"
    }
   },
   "outputs": [],
   "source": [
    "plt.figure(figsize=(8, 16))\n",
    "for i in [0, 1, 2]:\n",
    "    pickup_scatter(train[train['region'] == i])"
   ]
  },
  {
   "cell_type": "markdown",
   "metadata": {},
   "source": [
    "### Question 3e (ungraded)\n",
    "\n",
    "Use `sns.distplot` to create an overlaid histogram comparing the distribution of speeds for nighttime taxi rides (6pm-12am) in the three different regions defined above. Does it appear that there is an association between region and average speed during the night?"
   ]
  },
  {
   "cell_type": "code",
   "execution_count": null,
   "metadata": {
    "ExecuteTime": {
     "end_time": "2019-04-19T00:52:15.540800Z",
     "start_time": "2019-04-19T00:52:15.137862Z"
    }
   },
   "outputs": [],
   "source": [
    "..."
   ]
  },
  {
   "cell_type": "markdown",
   "metadata": {},
   "source": [
    "Finally, we create a design matrix that includes many of these features. Quantitative features are converted to standard units, while categorical features are converted to dummy variables using one-hot encoding. The `period` is not included because it is a linear combination of the `hour`. The `weekend` variable is not included because it is a linear combination of the `day`.  The `speed` is not included because it was computed from the `duration`; it's impossible to know the speed without knowing the duration, given that you know the distance."
   ]
  },
  {
   "cell_type": "code",
   "execution_count": null,
   "metadata": {
    "ExecuteTime": {
     "end_time": "2019-04-19T00:52:15.575279Z",
     "start_time": "2019-04-19T00:52:15.542763Z"
    }
   },
   "outputs": [],
   "source": [
    "from sklearn.preprocessing import StandardScaler\n",
    "\n",
    "num_vars = ['pickup_lon', 'pickup_lat', 'dropoff_lon', 'dropoff_lat', 'distance']\n",
    "cat_vars = ['hour', 'day', 'region']\n",
    "\n",
    "scaler = StandardScaler()\n",
    "scaler.fit(train[num_vars])\n",
    "\n",
    "def design_matrix(t):\n",
    "    \"\"\"Create a design matrix from taxi ride dataframe t.\"\"\"\n",
    "    scaled = t[num_vars].copy()\n",
    "    scaled.iloc[:,:] = scaler.transform(scaled) # Convert to standard units\n",
    "    categoricals = [pd.get_dummies(t[s], prefix=s, drop_first=True) for s in cat_vars]\n",
    "    return pd.concat([scaled] + categoricals, axis=1)\n",
    "\n",
    "# This processes the full train set, then gives us the first item\n",
    "# Use this function to get a processed copy of the dataframe passed in\n",
    "# for training / evaluation\n",
    "design_matrix(train).iloc[0,:]  "
   ]
  },
  {
   "cell_type": "markdown",
   "metadata": {},
   "source": [
    "## Part 4: Model Selection\n",
    "\n",
    "In this part, you will select a regression model to predict the duration of a taxi ride.\n",
    "\n",
    "**Important:** *Tests in this part do not confirm that you have answered correctly. Instead, they check that you're somewhat close in order to detect major errors. It is up to you to calculate the results correctly based on the question descriptions.*"
   ]
  },
  {
   "cell_type": "markdown",
   "metadata": {
    "deletable": false,
    "editable": false
   },
   "source": [
    "### Question 4a\n",
    "\n",
    "Assign `constant_rmse` to the root mean squared error on the **test** set for a constant model that always predicts the mean duration of all **training set** taxi rides.\n",
    "\n",
    "<!--\n",
    "BEGIN QUESTION\n",
    "name: q4a\n",
    "points: 2\n",
    "-->"
   ]
  },
  {
   "cell_type": "code",
   "execution_count": null,
   "metadata": {
    "ExecuteTime": {
     "end_time": "2019-04-19T00:52:15.585597Z",
     "start_time": "2019-04-19T00:52:15.577375Z"
    }
   },
   "outputs": [],
   "source": [
    "def rmse(errors):\n",
    "    \"\"\"Return the root mean squared error.\"\"\"\n",
    "    return np.sqrt(np.mean(errors ** 2))\n",
    "\n",
    "constant_rmse = ...\n",
    "constant_rmse"
   ]
  },
  {
   "cell_type": "code",
   "execution_count": null,
   "metadata": {
    "deletable": false,
    "editable": false
   },
   "outputs": [],
   "source": [
    "grader.check(\"q4a\")"
   ]
  },
  {
   "cell_type": "markdown",
   "metadata": {
    "deletable": false,
    "editable": false
   },
   "source": [
    "### Question 4b\n",
    "\n",
    "Assign `simple_rmse` to the root mean squared error on the test set for a simple linear regression model that uses only the distance of the taxi ride as a feature (and includes an intercept).\n",
    "\n",
    "*Terminology Note*: Simple linear regression means that there is only one covariate. Multiple linear regression means that there is more than one. In either case, you can use the `LinearRegression` model from `sklearn` to fit the parameters to data.\n",
    "\n",
    "<!--\n",
    "BEGIN QUESTION\n",
    "name: q4b\n",
    "points: 2\n",
    "-->"
   ]
  },
  {
   "cell_type": "code",
   "execution_count": null,
   "metadata": {
    "ExecuteTime": {
     "end_time": "2019-04-19T00:52:15.693274Z",
     "start_time": "2019-04-19T00:52:15.625838Z"
    }
   },
   "outputs": [],
   "source": [
    "from sklearn.linear_model import LinearRegression\n",
    "\n",
    "model = LinearRegression()\n",
    "...\n",
    "simple_rmse = ...\n",
    "simple_rmse"
   ]
  },
  {
   "cell_type": "code",
   "execution_count": null,
   "metadata": {
    "deletable": false,
    "editable": false
   },
   "outputs": [],
   "source": [
    "grader.check(\"q4b\")"
   ]
  },
  {
   "cell_type": "markdown",
   "metadata": {
    "deletable": false,
    "editable": false
   },
   "source": [
    "### Question 4c\n",
    "\n",
    "Assign `linear_rmse` to the root mean squared error on the test set for a linear regression model fitted to the training set without regularization, using the design matrix defined by the `design_matrix` function from Part 3.\n",
    "\n",
    "*The provided tests check that you have answered the question correctly and that your `design_matrix` function is working as intended.*\n",
    "\n",
    "<!--\n",
    "BEGIN QUESTION\n",
    "name: q4c\n",
    "points: 2\n",
    "-->"
   ]
  },
  {
   "cell_type": "code",
   "execution_count": null,
   "metadata": {
    "ExecuteTime": {
     "end_time": "2019-04-19T00:52:15.892103Z",
     "start_time": "2019-04-19T00:52:15.728215Z"
    }
   },
   "outputs": [],
   "source": [
    "model = LinearRegression()\n",
    "...\n",
    "linear_rmse = ...\n",
    "linear_rmse"
   ]
  },
  {
   "cell_type": "code",
   "execution_count": null,
   "metadata": {
    "deletable": false,
    "editable": false
   },
   "outputs": [],
   "source": [
    "grader.check(\"q4c\")"
   ]
  },
  {
   "cell_type": "markdown",
   "metadata": {
    "deletable": false,
    "editable": false
   },
   "source": [
    "### Question 4d\n",
    "\n",
    "For each possible value of `period`, fit an unregularized linear regression model to the subset of the training set in that `period`.  Assign `period_rmse` to the root mean squared error on the test set for a model that first chooses linear regression parameters based on the observed period of the taxi ride, then predicts the duration using those parameters. Again, fit to the training set and use the `design_matrix` function for features.\n",
    "\n",
    "<!--\n",
    "BEGIN QUESTION\n",
    "name: q4d\n",
    "points: 2\n",
    "-->"
   ]
  },
  {
   "cell_type": "code",
   "execution_count": null,
   "metadata": {
    "ExecuteTime": {
     "end_time": "2019-04-19T00:52:16.112196Z",
     "start_time": "2019-04-19T00:52:15.954833Z"
    }
   },
   "outputs": [],
   "source": [
    "model = LinearRegression()\n",
    "errors = []\n",
    "\n",
    "for v in np.unique(train['period']):\n",
    "    ...\n",
    "    \n",
    "period_rmse = rmse(np.array(errors))\n",
    "period_rmse"
   ]
  },
  {
   "cell_type": "code",
   "execution_count": null,
   "metadata": {
    "deletable": false,
    "editable": false
   },
   "outputs": [],
   "source": [
    "grader.check(\"q4d\")"
   ]
  },
  {
   "cell_type": "markdown",
   "metadata": {},
   "source": [
    "This approach is a simple form of decision tree regression, where a different regression function is estimated for each possible choice among a collection of choices. In this case, the depth of the tree is only 1."
   ]
  },
  {
   "cell_type": "markdown",
   "metadata": {
    "deletable": false,
    "editable": false
   },
   "source": [
    "### Question 4e\n",
    "\n",
    "In one or two sentences, explain how the `period` regression model above could possibly outperform linear regression when the design matrix for linear regression already includes one feature for each possible hour, which can be combined linearly to determine the `period` value.\n",
    "\n",
    "<!--\n",
    "BEGIN QUESTION\n",
    "name: q4e\n",
    "points: 2\n",
    "manual: True\n",
    "-->\n",
    "<!-- EXPORT TO PDF -->"
   ]
  },
  {
   "cell_type": "markdown",
   "metadata": {},
   "source": [
    "Write my answer!"
   ]
  },
  {
   "cell_type": "markdown",
   "metadata": {
    "deletable": false,
    "editable": false
   },
   "source": [
    "### Question 4f\n",
    "\n",
    "Instead of predicting duration directly, an alternative is to predict the average *speed* of the taxi ride using linear regression, then compute an estimate of the duration from the predicted speed and observed distance for each ride.\n",
    "\n",
    "Assign `speed_rmse` to the root mean squared error in the **duration** predicted by a model that first predicts speed as a linear combination of features from the `design_matrix` function, fitted on the training set, then predicts duration from the predicted speed and observed distance.\n",
    "\n",
    "*Hint*: Speed is in miles per hour, but duration is measured in seconds. You'll need the fact that there are 60 * 60 = 3,600 seconds in an hour.\n",
    "\n",
    "<!--\n",
    "BEGIN QUESTION\n",
    "name: q4f\n",
    "points: 2\n",
    "-->"
   ]
  },
  {
   "cell_type": "code",
   "execution_count": null,
   "metadata": {
    "ExecuteTime": {
     "end_time": "2019-04-19T00:52:16.290797Z",
     "start_time": "2019-04-19T00:52:16.145522Z"
    }
   },
   "outputs": [],
   "source": [
    "model = LinearRegression()\n",
    "...\n",
    "speed_rmse = ...\n",
    "speed_rmse"
   ]
  },
  {
   "cell_type": "code",
   "execution_count": null,
   "metadata": {
    "deletable": false,
    "editable": false
   },
   "outputs": [],
   "source": [
    "grader.check(\"q4f\")"
   ]
  },
  {
   "cell_type": "markdown",
   "metadata": {},
   "source": [
    "*Optional*: Explain why predicting speed leads to a more accurate regression model than predicting duration directly. You don't need to write this down."
   ]
  },
  {
   "cell_type": "markdown",
   "metadata": {
    "deletable": false,
    "editable": false
   },
   "source": [
    "### Question 4g\n",
    "\n",
    "Finally, complete the function `tree_regression_errors` (and helper function `speed_error`) that combines the ideas from the two previous models and generalizes to multiple categorical variables.\n",
    "\n",
    "The `tree_regression_errors` should:\n",
    "- Find a different linear regression model for each possible combination of the variables in `choices`;\n",
    "- Fit to the specified `outcome` (on train) and predict that `outcome` (on test) for each combination (`outcome` will be `'duration'` or `'speed'`);\n",
    "- Use the specified `error_fn` (either `duration_error` or `speed_error`) to compute the error in predicted duration using the predicted outcome;\n",
    "- Aggregate those errors over the whole test set and return them.\n",
    "\n",
    "You should find that including each of `period`, `region`, and `weekend` improves prediction accuracy, and that predicting speed rather than duration leads to more accurate duration predictions.\n",
    "\n",
    "If you're stuck, try putting print statements in the skeleton code to see what it's doing.\n",
    "\n",
    "<!--\n",
    "BEGIN QUESTION\n",
    "name: q4g\n",
    "points: 4\n",
    "-->"
   ]
  },
  {
   "cell_type": "code",
   "execution_count": null,
   "metadata": {
    "ExecuteTime": {
     "end_time": "2019-04-19T00:52:17.731011Z",
     "start_time": "2019-04-19T00:52:16.324235Z"
    }
   },
   "outputs": [],
   "source": [
    "model = LinearRegression()\n",
    "choices = ['period', 'region', 'weekend']\n",
    "\n",
    "def duration_error(predictions, observations):\n",
    "    \"\"\"Error between duration predictions (array) and observations (data frame)\"\"\"\n",
    "    return predictions - observations['duration']\n",
    "\n",
    "def speed_error(predictions, observations):\n",
    "    \"\"\"Duration error between speed predictions and duration observations\"\"\"\n",
    "    ...\n",
    "\n",
    "def tree_regression_errors(outcome='duration', error_fn=duration_error):\n",
    "    \"\"\"Return errors for all examples in test using a tree regression model.\"\"\"\n",
    "    errors = []\n",
    "    for vs in train.groupby(choices).size().index:\n",
    "        v_train, v_test = train, test\n",
    "        for v, c in zip(vs, choices):\n",
    "            v_train = ...\n",
    "            v_test = ...\n",
    "        ...\n",
    "    return errors\n",
    "\n",
    "errors = tree_regression_errors()\n",
    "errors_via_speed = tree_regression_errors('speed', speed_error)\n",
    "tree_rmse = rmse(np.array(errors))\n",
    "tree_speed_rmse = rmse(np.array(errors_via_speed))\n",
    "print('Duration:', tree_rmse, '\\nSpeed:', tree_speed_rmse)"
   ]
  },
  {
   "cell_type": "code",
   "execution_count": null,
   "metadata": {
    "deletable": false,
    "editable": false
   },
   "outputs": [],
   "source": [
    "grader.check(\"q4g\")"
   ]
  },
  {
   "cell_type": "markdown",
   "metadata": {},
   "source": [
    "Here's a summary of your results:"
   ]
  },
  {
   "cell_type": "code",
   "execution_count": null,
   "metadata": {
    "ExecuteTime": {
     "end_time": "2019-04-19T00:52:17.975288Z",
     "start_time": "2019-04-19T00:52:17.813049Z"
    }
   },
   "outputs": [],
   "source": [
    "models = ['constant', 'simple', 'linear', 'period', 'speed', 'tree', 'tree_speed']\n",
    "pd.DataFrame.from_dict({\n",
    "    'Model': models,\n",
    "    'Test RMSE': [eval(m + '_rmse') for m in models]\n",
    "}).set_index('Model').plot(kind='barh');"
   ]
  },
  {
   "cell_type": "markdown",
   "metadata": {},
   "source": [
    "## Part 5: Building on your own\n",
    "\n",
    "In this part you'll build a regression model of your own design, with the goal of achieving even higher performance than you've seen already. You will be graded on your performance relative to others in the class, with higher performance (lower RMSE) receiving more points.\n",
    "\n"
   ]
  },
  {
   "cell_type": "markdown",
   "metadata": {},
   "source": [
    "### Question 5a\n",
    "\n",
    "In the below cell (feel free to add your own additional cells), train a regression model of your choice on the same train dataset split used above. The model can incorporate anything you've learned from the class so far.\n",
    "\n",
    "The model you train will be used for questions 5b and 5c"
   ]
  },
  {
   "cell_type": "code",
   "execution_count": null,
   "metadata": {},
   "outputs": [],
   "source": [
    "..."
   ]
  },
  {
   "cell_type": "markdown",
   "metadata": {},
   "source": [
    "### Question 5b\n",
    "\n",
    "Print a summary of your model's performance. You **must** include the RMSE on the train and test sets. Do not hardcode any values or you won't receive credit.\n",
    "\n",
    "Don't include any long lines or we won't be able to grade your response.\n",
    "\n",
    "<!--\n",
    "BEGIN QUESTION\n",
    "name: q5b\n",
    "points: 7\n",
    "manual: True\n",
    "-->\n",
    "<!-- EXPORT TO PDF -->"
   ]
  },
  {
   "cell_type": "code",
   "execution_count": null,
   "metadata": {},
   "outputs": [],
   "source": [
    "..."
   ]
  },
  {
   "cell_type": "markdown",
   "metadata": {},
   "source": [
    "### Question 5c\n",
    "Describe why you selected the model you did and what you did to try and improve performance over the models in section 4.\n",
    "\n",
    "Responses should be at most a few sentences\n",
    "\n",
    "<!--\n",
    "BEGIN QUESTION\n",
    "name: q5c\n",
    "points: 3\n",
    "manual: True\n",
    "-->\n",
    "<!-- EXPORT TO PDF -->"
   ]
  },
  {
   "cell_type": "markdown",
   "metadata": {},
   "source": [
    "*Write your response here*"
   ]
  },
  {
   "cell_type": "markdown",
   "metadata": {},
   "source": [
    "**Congratulations**! You've carried out the entire data science lifecycle for a challenging regression problem. \n",
    "\n",
    "In Part 1 on data selection, you solved a domain-specific programming problem relevant to the analysis when choosing only those taxi rides that started and ended in Manhattan.\n",
    "\n",
    "In Part 2 on EDA, you used the data to assess the impact of a historical event---the 2016 blizzard---and filtered the data accordingly.\n",
    "\n",
    "In Part 3 on feature engineering, you used PCA to divide up the map of Manhattan into regions that roughly corresponded to the standard geographic description of the island.\n",
    "\n",
    "In Part 4 on model selection, you found that using linear regression in practice can involve more than just choosing a design matrix. Tree regression made better use of categorical variables than linear regression. The domain knowledge that duration is a simple function of distance and speed allowed you to predict duration more accurately by first predicting speed.\n",
    "\n",
    "In Part 5, you made your own model using techniques you've learned throughout the course.\n",
    "\n",
    "Hopefully, it is apparent that all of these steps are required to reach a reliable conclusion about what inputs and model structure are helpful in predicting the duration of a taxi ride in Manhattan. "
   ]
  },
  {
   "cell_type": "markdown",
   "metadata": {},
   "source": [
    "## Future Work\n",
    "\n",
    "Here are some questions to ponder:\n",
    "\n",
    "- The regression model would have been more accurate if we had used the date itself as a feature instead of just the day of the week. Why didn't we do that?\n",
    "- Does collecting this information about every taxi ride introduce a privacy risk? The original data also included the total fare; how could someone use this information combined with an individual's credit card records to determine their location?\n",
    "- Why did we treat `hour` as a categorical variable instead of a quantitative variable? Would a similar treatment be beneficial for latitude and longitude?\n",
    "- Why are Google Maps estimates of ride time much more accurate than our estimates?\n",
    "\n",
    "\n",
    "Here are some possible extensions to the project:\n",
    "\n",
    "- An alternative to throwing out atypical days is to condition on a feature that makes them atypical, such as the weather or holiday calendar. How would you do that?\n",
    "- Training a different linear regression model for every possible combination of categorical variables can overfit. How would you select which variables to include in a decision tree instead of just using them all?\n",
    "- Your models use the observed distance as an input, but the distance is only observed after the ride is over. How could you estimate the distance from the pick-up and drop-off locations?\n",
    "- How would you incorporate traffic data into the model?"
   ]
  },
  {
   "cell_type": "code",
   "execution_count": null,
   "metadata": {
    "deletable": false
   },
   "outputs": [],
   "source": [
    "# Save your notebook first, then run this cell to generate a PDF.\n",
    "# Note, the download link will likely not work.\n",
    "# Find the pdf in the same directory as your proj3.ipynb\n",
    "grader.export(\"proj3.ipynb\", filtering=False)"
   ]
  }
 ],
 "metadata": {
  "kernelspec": {
   "display_name": "Python 3",
   "language": "python",
   "name": "python3"
  },
  "language_info": {
   "codemirror_mode": {
    "name": "ipython",
    "version": 3
   },
   "file_extension": ".py",
   "mimetype": "text/x-python",
   "name": "python",
   "nbconvert_exporter": "python",
   "pygments_lexer": "ipython3",
   "version": "3.6.7"
  }
 },
 "nbformat": 4,
 "nbformat_minor": 2
}
